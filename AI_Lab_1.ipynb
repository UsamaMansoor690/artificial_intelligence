{
  "nbformat": 4,
  "nbformat_minor": 0,
  "metadata": {
    "colab": {
      "provenance": []
    },
    "kernelspec": {
      "name": "python3",
      "display_name": "Python 3"
    },
    "language_info": {
      "name": "python"
    }
  },
  "cells": [
    {
      "cell_type": "code",
      "execution_count": 4,
      "metadata": {
        "colab": {
          "base_uri": "https://localhost:8080/"
        },
        "id": "nv4r99eQttfF",
        "outputId": "41f31c03-33a8-46cc-aa83-f7749a9bf9aa"
      },
      "outputs": [
        {
          "output_type": "stream",
          "name": "stdout",
          "text": [
            "Enter a number: 9\n",
            "Number is Odd\n"
          ]
        }
      ],
      "source": [
        "# Activity 1\n",
        "# Check whether the number is Even or Odd\n",
        "number = int(input(\"Enter a number: \"))\n",
        "if (number % 2 == 0):\n",
        "  print(\"Number is even\")\n",
        "else:\n",
        "  print(\"Number is Odd\")"
      ]
    },
    {
      "cell_type": "code",
      "source": [
        "# Activity 2\n",
        "# Write a Python code to keep accepting integer values from user until 0 is entered.\n",
        "# Display sum of the given values.\n",
        "\n",
        "number = int(input(\"Enter a number: \"))\n",
        "sumOfNumbers = 0\n",
        "while number!=0:\n",
        "  sumOfNumbers += number\n",
        "  number = int(input(\"Enter a number: \"))\n",
        "\n",
        "print(f\"Sum of numbers is: {sumOfNumbers}\")"
      ],
      "metadata": {
        "colab": {
          "base_uri": "https://localhost:8080/"
        },
        "id": "_vMCwwmyu5_f",
        "outputId": "24dc35e9-eacb-442a-fea0-fac87fa9a4a0"
      },
      "execution_count": 7,
      "outputs": [
        {
          "output_type": "stream",
          "name": "stdout",
          "text": [
            "Enter a number: 10\n",
            "Enter a number: 5\n",
            "Enter a number: 5\n",
            "Enter a number: 0\n",
            "Sum of numbers is: 20\n"
          ]
        }
      ]
    },
    {
      "cell_type": "code",
      "source": [
        "# Activity 3\n",
        "# Check whether the number is prime or not\n",
        "number = int(input('Enter a number : '))\n",
        "counter = 0\n",
        "for i in range (1, number + 1):\n",
        "    if(number % i == 0):\n",
        "        counter += 1;\n",
        "if(counter == 2):\n",
        "    print(f\"{number} is a Prime number\")\n",
        "else:\n",
        "    print(f\"{number} is NOT a Prime number\")"
      ],
      "metadata": {
        "colab": {
          "base_uri": "https://localhost:8080/"
        },
        "id": "XcnNpXZkwDM-",
        "outputId": "7c36c77c-6365-4954-a952-8375367d4235"
      },
      "execution_count": 9,
      "outputs": [
        {
          "output_type": "stream",
          "name": "stdout",
          "text": [
            "Enter a number : 13\n",
            "13 is a Prime number\n"
          ]
        }
      ]
    },
    {
      "cell_type": "code",
      "source": [
        "# Activity 4\n",
        "# Accept 5 integer values from user and display their sum.\n",
        "sumofNumbers = 0\n",
        "counter = 0\n",
        "while counter!=5:\n",
        "  number = int(input(\"Enter number: \"))\n",
        "  sumofNumbers+=number\n",
        "  counter+=1\n",
        "print(f\"Sum of Numbers is: {sumofNumbers}\")"
      ],
      "metadata": {
        "colab": {
          "base_uri": "https://localhost:8080/"
        },
        "id": "qGbHG8FEwdfV",
        "outputId": "91b0a07a-dcfc-43f2-bfb2-6ee5ccab99c3"
      },
      "execution_count": 12,
      "outputs": [
        {
          "output_type": "stream",
          "name": "stdout",
          "text": [
            "Enter number: 5\n",
            "Enter number: 10\n",
            "Enter number: 5\n",
            "Enter number: 10\n",
            "Enter number: 5\n",
            "Sum of Numbers is: 35\n"
          ]
        }
      ]
    },
    {
      "cell_type": "code",
      "source": [
        "# Activity 5\n",
        "# Calculate the sum of all the values between 0-10 using while loop.\n",
        "\n",
        "sumOfNumbers = 0\n",
        "counter = 1\n",
        "while counter <= 10:\n",
        "  sumOfNumbers += counter\n",
        "  counter += 1\n",
        "print(f\"Sum of 0-10 is: {sumOfNumbers}\")"
      ],
      "metadata": {
        "colab": {
          "base_uri": "https://localhost:8080/"
        },
        "id": "cQb2cX0sxXsB",
        "outputId": "9725cd8f-c74e-4bc4-e504-9b24f7896bd2"
      },
      "execution_count": 14,
      "outputs": [
        {
          "output_type": "stream",
          "name": "stdout",
          "text": [
            "Sum of 0-10 is: 55\n"
          ]
        }
      ]
    },
    {
      "cell_type": "code",
      "source": [
        "# Lab Task 1\n",
        "# Write a program that prompts the user to input an integer and \n",
        "# then outputs the number with the digits reversed. \n",
        "# For example, if the input is 12345, the output should be 54321.\n",
        "\n",
        "number = int(input(\"Enter a number: \"))\n",
        "reverseNumber = 0\n",
        "while number != 0:\n",
        "  remainder = number % 10\n",
        "  reverseNumber = (reverseNumber * 10) + remainder\n",
        "  number = number // 10\n",
        "print(f\"Reverse number is: {reverseNumber}\")"
      ],
      "metadata": {
        "colab": {
          "base_uri": "https://localhost:8080/"
        },
        "id": "syI_R8ppyDiv",
        "outputId": "c8af2934-bb1f-4d92-e924-6683531b1b58"
      },
      "execution_count": 17,
      "outputs": [
        {
          "output_type": "stream",
          "name": "stdout",
          "text": [
            "Enter a number: 62002\n",
            "Reverse number is: 20026\n"
          ]
        }
      ]
    },
    {
      "cell_type": "code",
      "source": [
        "# Lab Task 2\n",
        "# Write a program that reads a set of integers, and then \n",
        "# prints the sum of the even and odd integers.\n",
        "\n",
        "sumOfEvenNumbers = 0\n",
        "sumOfOddNumbers = 0\n",
        "\n",
        "counter = 0\n",
        "while counter < 10:\n",
        "  number = int(input('Enter a number : '))\n",
        "  if number % 2 == 0:\n",
        "    sumOfEvenNumbers += number\n",
        "  else:\n",
        "    sumOfOddNumbers += number\n",
        "  counter += 1\n",
        "print(f\"Sum of Even Numbers is: {sumOfEvenNumbers}\")\n",
        "print(f\"Sum of Odd Numbers is: {sumOfOddNumbers}\")"
      ],
      "metadata": {
        "colab": {
          "base_uri": "https://localhost:8080/"
        },
        "id": "Huu1J-9DzDI6",
        "outputId": "b6ac57ec-d8bd-40b4-f333-dd127291a77c"
      },
      "execution_count": 20,
      "outputs": [
        {
          "output_type": "stream",
          "name": "stdout",
          "text": [
            "Enter a number : 10\n",
            "Enter a number : 9\n",
            "Enter a number : 10\n",
            "Enter a number : 10\n",
            "Enter a number : 10\n",
            "Enter a number : 1\n",
            "Enter a number : 10\n",
            "Enter a number : 10\n",
            "Enter a number : 10\n",
            "Enter a number : 10\n",
            "Sum of Even Numbers is: 80\n",
            "Sum of Odd Numbers is: 10\n"
          ]
        }
      ]
    },
    {
      "cell_type": "code",
      "source": [
        "# Lab Task 3\n",
        "# Fabonacci Series\n",
        "number = int(input(\"Enter a number : \"))\n",
        "fabonacci_series = \"\"\n",
        "a = 0\n",
        "b = 1\n",
        "c = 0\n",
        "for i in range (1, number + 1):\n",
        "    fabonacci_series += (f\"{c} \")\n",
        "    c = a + b\n",
        "    a = b\n",
        "    b = c\n",
        "print(fabonacci_series)"
      ],
      "metadata": {
        "colab": {
          "base_uri": "https://localhost:8080/"
        },
        "id": "4yyAk8870FoG",
        "outputId": "cec42da1-3f44-4650-f43f-f3a246f0a683"
      },
      "execution_count": 23,
      "outputs": [
        {
          "output_type": "stream",
          "name": "stdout",
          "text": [
            "Enter a number : 7\n",
            "0 1 2 3 5 8 13 \n"
          ]
        }
      ]
    },
    {
      "cell_type": "code",
      "source": [
        "# lab task 4\n",
        "# Grading System\n",
        "marks = int(input(\"Enter Your Marks: \"))\n",
        "\n",
        "if marks > 90:\n",
        "  print(\"A grade\")\n",
        "elif marks > 80 and marks <= 89:\n",
        "  print(\"B grade\")\n",
        "elif marks > 70 and marks <= 79:\n",
        "  print(\"C grade\")\n",
        "elif marks > 60 and marks <= 69:\n",
        "  print(\"D grade\")\n",
        "elif marks >= 50 and marks <=60:\n",
        "  print(\"E grade\")\n",
        "else:\n",
        "  print(\"F grade\")"
      ],
      "metadata": {
        "colab": {
          "base_uri": "https://localhost:8080/"
        },
        "id": "iRqFzHJW0ffF",
        "outputId": "475c4c7c-8b9a-4709-dd18-98bd088551e9"
      },
      "execution_count": 31,
      "outputs": [
        {
          "output_type": "stream",
          "name": "stdout",
          "text": [
            "Enter Your Marks: 95\n",
            "A grade\n"
          ]
        }
      ]
    },
    {
      "cell_type": "code",
      "source": [
        "# Lab task 5\n",
        "# Factorial of a number\n",
        "\n",
        "number = int(input(\"Enter a number: \"))\n",
        "factorial = 1\n",
        "\n",
        "for i in range(1, number+1):\n",
        "  factorial *= i\n",
        "print(f'Factorial of {number} is {factorial}')"
      ],
      "metadata": {
        "colab": {
          "base_uri": "https://localhost:8080/"
        },
        "id": "ghd3mRzw1qvW",
        "outputId": "ab7b6531-7ef8-437b-c325-f602684c693b"
      },
      "execution_count": 35,
      "outputs": [
        {
          "output_type": "stream",
          "name": "stdout",
          "text": [
            "Enter a number: 8\n",
            "Factorial of 8 is 40320\n"
          ]
        }
      ]
    }
  ]
}